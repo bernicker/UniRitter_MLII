{
 "cells": [
  {
   "cell_type": "code",
   "execution_count": 1,
   "metadata": {},
   "outputs": [],
   "source": [
    "import numpy as np"
   ]
  },
  {
   "cell_type": "markdown",
   "metadata": {},
   "source": [
    "<h2>Carregando dados</h2>"
   ]
  },
  {
   "cell_type": "code",
   "execution_count": 2,
   "metadata": {},
   "outputs": [],
   "source": [
    "data = np.genfromtxt('diabetes.csv', delimiter=',')"
   ]
  },
  {
   "cell_type": "code",
   "execution_count": 3,
   "metadata": {},
   "outputs": [],
   "source": [
    "labels = data[:,-1]\n",
    "data = data[:,:-1]"
   ]
  },
  {
   "cell_type": "markdown",
   "metadata": {},
   "source": [
    "<h2>Normalização</h2>"
   ]
  },
  {
   "cell_type": "code",
   "execution_count": 4,
   "metadata": {},
   "outputs": [],
   "source": [
    "from sklearn.preprocessing import MinMaxScaler"
   ]
  },
  {
   "cell_type": "code",
   "execution_count": 5,
   "metadata": {},
   "outputs": [],
   "source": [
    "scaler = MinMaxScaler()\n",
    "data = scaler.fit_transform(data)"
   ]
  },
  {
   "cell_type": "code",
   "execution_count": 6,
   "metadata": {},
   "outputs": [
    {
     "data": {
      "text/plain": [
       "(0.0, 1.0)"
      ]
     },
     "execution_count": 6,
     "metadata": {},
     "output_type": "execute_result"
    }
   ],
   "source": [
    "np.min(data[:,0]), np.max(data[:,0])"
   ]
  },
  {
   "cell_type": "markdown",
   "metadata": {},
   "source": [
    "<h2>Treinamento</h2>"
   ]
  },
  {
   "cell_type": "code",
   "execution_count": 7,
   "metadata": {},
   "outputs": [],
   "source": [
    "# Modelos\n",
    "# from sklearn.neural_network import MLPClassifier\n",
    "# from sklearn.svm import SVC\n",
    "from sklearn.tree import DecisionTreeClassifier\n",
    "from sklearn.ensemble import RandomForestClassifier, GradientBoostingClassifier\n",
    "\n",
    "# K-fold CrossValidation\n",
    "from sklearn.model_selection import KFold\n",
    "\n",
    "# Métricas\n",
    "from sklearn.metrics import accuracy_score, recall_score, precision_score"
   ]
  },
  {
   "cell_type": "code",
   "execution_count": 8,
   "metadata": {},
   "outputs": [],
   "source": [
    "performance = {}\n",
    "\n",
    "modelos = ['decision_tree', 'random_forest', 'gradient_boosting']\n",
    "\n",
    "for modelo in modelos:\n",
    "    performance[modelo] = {\n",
    "        'acuracia': [],\n",
    "        'recall': [],\n",
    "        'precisao': []\n",
    "    }"
   ]
  },
  {
   "cell_type": "code",
   "execution_count": 9,
   "metadata": {},
   "outputs": [],
   "source": [
    "kf = KFold(n_splits=10)\n",
    "\n",
    "for train_index, test_index in kf.split(data):\n",
    "    \n",
    "    X_train, X_test = data[train_index], data[test_index]\n",
    "    y_train, y_test = labels[train_index], labels[test_index]\n",
    "    \n",
    "    dt = DecisionTreeClassifier()\n",
    "    rf = RandomForestClassifier()\n",
    "    bt = GradientBoostingClassifier(n_estimators=10)\n",
    "    \n",
    "    # Treino\n",
    "    dt.fit(X_train, y_train)\n",
    "    rf.fit(X_train, y_train)\n",
    "    bt.fit(X_train, y_train)\n",
    "    \n",
    "    # Avaliação\n",
    "    ## Decision Tree\n",
    "    dt_predict = dt.predict(X_test)\n",
    "    \n",
    "    dt_acc = accuracy_score(y_test, dt_predict)\n",
    "    dt_recall = recall_score(y_test, dt_predict)\n",
    "    dt_precision = precision_score(y_test, dt_predict)\n",
    "    \n",
    "    performance['decision_tree']['acuracia'].append(dt_acc)\n",
    "    performance['decision_tree']['recall'].append(dt_recall)\n",
    "    performance['decision_tree']['precisao'].append(dt_precision)\n",
    "    \n",
    "    ## Random Forest\n",
    "    rf_predict = rf.predict(X_test)\n",
    "    \n",
    "    rf_acc = accuracy_score(y_test, rf_predict)\n",
    "    rf_recall = recall_score(y_test, rf_predict)\n",
    "    rf_precision = precision_score(y_test, rf_predict)\n",
    "    \n",
    "    performance['random_forest']['acuracia'].append(rf_acc)\n",
    "    performance['random_forest']['recall'].append(rf_recall)\n",
    "    performance['random_forest']['precisao'].append(rf_precision)\n",
    "    \n",
    "    ## Gradient Boosting\n",
    "    bt_predict = bt.predict(X_test)\n",
    "    \n",
    "    bt_acc = accuracy_score(y_test, bt_predict)\n",
    "    bt_recall = recall_score(y_test, bt_predict)\n",
    "    bt_precision = precision_score(y_test, bt_predict)\n",
    "    \n",
    "    performance['gradient_boosting']['acuracia'].append(bt_acc)\n",
    "    performance['gradient_boosting']['recall'].append(bt_recall)\n",
    "    performance['gradient_boosting']['precisao'].append(bt_precision)"
   ]
  },
  {
   "cell_type": "code",
   "execution_count": 11,
   "metadata": {},
   "outputs": [
    {
     "name": "stdout",
     "output_type": "stream",
     "text": [
      "Resultados - Acurácia\n",
      "Decision Tree: 0.69\n",
      "Random Forest: 0.72\n",
      "Gradient Boosting Tree: 0.75\n"
     ]
    }
   ],
   "source": [
    "print(\"Resultados - Acurácia\")\n",
    "print(\"Decision Tree: {}\".format(np.round(np.mean(performance['decision_tree']['acuracia']),2)))\n",
    "print(\"Random Forest: {}\".format(np.round(np.mean(performance['random_forest']['acuracia']),2)))\n",
    "print(\"Gradient Boosting Tree: {}\".format(np.round(np.mean(performance['gradient_boosting']['acuracia']),2)))"
   ]
  },
  {
   "cell_type": "code",
   "execution_count": 12,
   "metadata": {},
   "outputs": [
    {
     "name": "stdout",
     "output_type": "stream",
     "text": [
      "Resultados - Recall\n",
      "Decision Tree: 0.56\n",
      "Random Forest: 0.5\n",
      "Gradient Boosting Tree: 0.45\n"
     ]
    }
   ],
   "source": [
    "print(\"Resultados - Recall\")\n",
    "print(\"Decision Tree: {}\".format(np.round(np.mean(performance['decision_tree']['recall']),2)))\n",
    "print(\"Random Forest: {}\".format(np.round(np.mean(performance['random_forest']['recall']),2)))\n",
    "print(\"Gradient Boosting Tree: {}\".format(np.round(np.mean(performance['gradient_boosting']['recall']),2)))"
   ]
  },
  {
   "cell_type": "code",
   "execution_count": 13,
   "metadata": {},
   "outputs": [
    {
     "name": "stdout",
     "output_type": "stream",
     "text": [
      "Resultados - Precision\n",
      "Decision Tree: 0.55\n",
      "Random Forest: 0.63\n",
      "Gradient Boosting Tree: 0.75\n"
     ]
    }
   ],
   "source": [
    "print(\"Resultados - Precision\")\n",
    "print(\"Decision Tree: {}\".format(np.round(np.mean(performance['decision_tree']['precisao']),2)))\n",
    "print(\"Random Forest: {}\".format(np.round(np.mean(performance['random_forest']['precisao']),2)))\n",
    "print(\"Gradient Boosting Tree: {}\".format(np.round(np.mean(performance['gradient_boosting']['precisao']),2)))"
   ]
  }
 ],
 "metadata": {
  "kernelspec": {
   "display_name": "Python 3",
   "language": "python",
   "name": "python3"
  },
  "language_info": {
   "codemirror_mode": {
    "name": "ipython",
    "version": 3
   },
   "file_extension": ".py",
   "mimetype": "text/x-python",
   "name": "python",
   "nbconvert_exporter": "python",
   "pygments_lexer": "ipython3",
   "version": "3.6.5"
  }
 },
 "nbformat": 4,
 "nbformat_minor": 2
}
